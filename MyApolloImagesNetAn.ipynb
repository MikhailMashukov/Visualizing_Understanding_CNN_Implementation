{
 "cells": [
  {
   "cell_type": "code",
   "execution_count": 1,
   "metadata": {},
   "outputs": [
    {
     "name": "stdout",
     "output_type": "stream",
     "text": [
      "absl-py==0.8.1\r\n",
      "affinity==0.1.0\r\n",
      "astor==0.8.1\r\n",
      "attrs==19.3.0\r\n",
      "backcall==0.1.0\r\n",
      "bleach==3.1.0\r\n",
      "cachetools==3.1.1\r\n",
      "certifi==2019.11.28\r\n",
      "chainer==7.0.0\r\n",
      "chardet==3.0.4\r\n",
      "cloudpickle==1.1.1\r\n",
      "cntk-gpu==2.7\r\n",
      "cupy==7.0.0\r\n",
      "cycler==0.10.0\r\n",
      "Cython==0.29.14\r\n",
      "decorator==4.4.1\r\n",
      "defusedxml==0.6.0\r\n",
      "dm-sonnet==2.0.0b0\r\n",
      "entrypoints==0.3\r\n",
      "enum34==1.1.6\r\n",
      "fastrlock==0.4\r\n",
      "filelock==3.0.12\r\n",
      "future==0.18.2\r\n",
      "gast==0.2.2\r\n",
      "google-auth==1.9.0\r\n",
      "google-auth-oauthlib==0.4.1\r\n",
      "google-pasta==0.1.8\r\n",
      "graphviz==0.13.2\r\n",
      "grpcio==1.25.0\r\n",
      "h5py==2.10.0\r\n",
      "idna==2.8\r\n",
      "imageio==2.6.1\r\n",
      "importlib-metadata==1.3.0\r\n",
      "ipykernel==5.1.3\r\n",
      "ipython==7.10.2\r\n",
      "ipython-genutils==0.2.0\r\n",
      "ipywidgets==7.5.1\r\n",
      "jedi==0.15.1\r\n",
      "Jinja2==2.10.3\r\n",
      "joblib==0.14.1\r\n",
      "jsonschema==3.2.0\r\n",
      "jupyter==1.0.0\r\n",
      "jupyter-client==5.3.4\r\n",
      "jupyter-console==6.0.0\r\n",
      "jupyter-core==4.6.1\r\n",
      "Keras==2.3.1\r\n",
      "Keras-Applications==1.0.8\r\n",
      "Keras-Preprocessing==1.1.0\r\n",
      "kiwisolver==1.1.0\r\n",
      "Lasagne==0.2.dev1\r\n",
      "leveldb==0.1\r\n",
      "Mako==1.1.0\r\n",
      "Markdown==3.1.1\r\n",
      "MarkupSafe==1.1.1\r\n",
      "matplotlib==3.1.2\r\n",
      "mistune==0.8.4\r\n",
      "more-itertools==8.0.2\r\n",
      "mxnet-cu101==1.5.1.post0\r\n",
      "nbconvert==5.6.1\r\n",
      "nbformat==4.4.0\r\n",
      "networkx==2.4\r\n",
      "nose==1.3.7\r\n",
      "notebook==6.0.2\r\n",
      "numpy==1.17.4\r\n",
      "oauthlib==3.1.0\r\n",
      "onnx==1.6.0\r\n",
      "onnxruntime==1.0.0\r\n",
      "opt-einsum==3.1.0\r\n",
      "pandas==0.25.3\r\n",
      "pandocfilters==1.4.2\r\n",
      "parso==0.5.2\r\n",
      "pexpect==4.7.0\r\n",
      "pickleshare==0.7.5\r\n",
      "Pillow==6.2.1\r\n",
      "prometheus-client==0.7.1\r\n",
      "prompt-toolkit==2.0.10\r\n",
      "protobuf==3.11.1\r\n",
      "psutil==5.6.7\r\n",
      "ptyprocess==0.6.0\r\n",
      "pyasn1==0.4.8\r\n",
      "pyasn1-modules==0.2.7\r\n",
      "Pygments==2.5.2\r\n",
      "pygobject==3.26.1\r\n",
      "pygpu==0.7.6\r\n",
      "pyparsing==2.4.5\r\n",
      "pyrsistent==0.15.6\r\n",
      "python-apt==1.6.4\r\n",
      "python-dateutil==2.8.1\r\n",
      "python-distutils-extra==2.39\r\n",
      "python-gflags==1.5.1\r\n",
      "pytz==2019.3\r\n",
      "PyWavelets==1.1.1\r\n",
      "PyYAML==5.2\r\n",
      "pyzmq==18.1.1\r\n",
      "qtconsole==4.6.0\r\n",
      "requests==2.22.0\r\n",
      "requests-oauthlib==1.3.0\r\n",
      "rsa==4.0\r\n",
      "scikit-image==0.16.2\r\n",
      "scikit-learn==0.22\r\n",
      "scipy==1.4.1\r\n",
      "Send2Trash==1.5.0\r\n",
      "simplegeneric==0.8.1\r\n",
      "six==1.13.0\r\n",
      "tb-nightly==2.1.0a20191206\r\n",
      "tensorboard==2.1.0\r\n",
      "tensorflow-estimator==2.1.0\r\n",
      "tensorflow-estimator-2.0-preview==2.0.0\r\n",
      "tensorflow-gpu==2.1.0\r\n",
      "tensorflow-probability==0.8.0\r\n",
      "termcolor==1.1.0\r\n",
      "terminado==0.8.3\r\n",
      "testpath==0.4.4\r\n",
      "Theano==1.0.4+unknown\r\n",
      "torch==1.4.0.dev20191216\r\n",
      "torchvision==0.5.0.dev20191216\r\n",
      "tornado==6.0.3\r\n",
      "tqdm==4.40.2\r\n",
      "traitlets==4.3.3\r\n",
      "typing==3.7.4.1\r\n",
      "typing-extensions==3.7.4.1\r\n",
      "urllib3==1.25.7\r\n",
      "wcwidth==0.1.7\r\n",
      "webencodings==0.5.1\r\n",
      "Werkzeug==0.16.0\r\n",
      "widgetsnbextension==3.5.1\r\n",
      "wrapt==1.11.2\r\n",
      "zipp==0.6.0\r\n"
     ]
    }
   ],
   "source": [
    "imagesFolder = '/root/Visualiz_Zeiler/ImageNetPart/'\n",
    "# %tensorflow_version 2.x\n",
    "!pip freeze\n",
    "# !printenv\n",
    "\n",
    "def init_Full():\n",
    "#     from google.colab import drive\n",
    "#     # !set | more\n",
    "#     drive.mount('/home/gdrive')\n",
    "#     %cd \"/home/gdrive/My Drive/Visualiz_Zeiler\"\n",
    "\n",
    "#     !pip uninstall imageio --yes\n",
    "#     !pip install imageio\n",
    "#     !pip uninstall keras --yes\n",
    "#     !pip install keras\n",
    "\n",
    "    !df -hm | grep overlay\n",
    "    !unzip VKIImageNetPart_TrainTestDivided.zip -d $imagesFolder >/dev/null\n",
    "    !df -hm\n",
    "    %mv \"$imagesFolder\"Test \"$imagesFolder\"test\n",
    "    %mv \"$imagesFolder\"Train \"$imagesFolder\"train\n",
    "\n",
    "    %ls -l \"$imagesFolder/test/Baltimore oriole/2543\"*\n",
    "    path = imagesFolder + 'train/baseball/2832539985_13d806a911'\n",
    "    # %ls -l \"$path\"* \n",
    "    %mv \"$path\"\".jpg\" \"$path\"\".png\"\n",
    "    %ls -l \"$path\"* \n",
    "\n",
    "    path = imagesFolder + 'test/Baltimore oriole/2543362638_8d77863b4c'\n",
    "    %mv \"$path\"\".jpg\" \"$path\"\".png\"\n",
    "    %ls -l \"$path\"* \n",
    "    \n",
    "    %pip install psutil\n",
    "    \n",
    "# %pip uninstall tf-nightly-gpu-2.0-preview --yes\n",
    "# %pip install tensorflow-gpu --upgrade\n",
    "\n",
    "# def initCurRuntime():\n",
    "#     %cd \"/home/gdrive/My Drive/Visualiz_Zeiler\"\n",
    "    \n",
    "# init_Full()    # Unzips images\n",
    "# initCurRuntime()\n",
    "\n",
    "# from VisColabUtils import *\n",
    "from VisJupyterNotUtils import *"
   ]
  },
  {
   "cell_type": "code",
   "execution_count": 2,
   "metadata": {},
   "outputs": [
    {
     "name": "stdout",
     "output_type": "stream",
     "text": [
      "seconds from start (passed microseconds)\n",
      "0\n",
      "8.038 (   207.00) <torch.cuda.device object at 0x7f2f8853e940>\n",
      "8.040 (  1343.00) 1\n",
      "8.041 (  1153.00) Tesla V100-SXM2-32GB\n",
      "8.042 (   953.00) True\n",
      "11.777 (3735124.00) tensor([[-0.8929,  0.5405]])\n",
      "11.788 ( 11235.00) tensor([[0.3827, 0.3609]], device='cuda:0')\n",
      "11.791 (  2848.00) tensor([[0.1465, 0.1302]], device='cuda:0')\n"
     ]
    }
   ],
   "source": [
    "import torch\n",
    "print(torch.cuda.current_device())\n",
    "print(torch.cuda.device(0))\n",
    "print(torch.cuda.device_count())\n",
    "print(torch.cuda.get_device_name(0))\n",
    "print(torch.cuda.is_available())\n",
    "t1 = torch.randn(1,2)\n",
    "t2 = torch.randn(1,2).to('cuda')\n",
    "print(t1)  \n",
    "print(t2)  \n",
    "print(t2 * t2)"
   ]
  },
  {
   "cell_type": "code",
   "execution_count": 3,
   "metadata": {},
   "outputs": [
    {
     "name": "stdout",
     "output_type": "stream",
     "text": [
      "11.800 (  9244.00) 20\n",
      "11.802 (  1346.00) [0, 1, 2, 3, 4, 5, 6, 7, 8, 9, 10, 11, 12, 13, 14, 15, 16, 17, 18, 19, 20, 21, 22, 23, 24, 25, 26, 27, 28, 29, 30, 31, 32, 33, 34, 35, 36, 37, 38, 39, 40, 41, 42, 43, 44, 45, 46, 47, 48, 49, 50, 51, 52, 53, 54, 55, 56, 57, 58, 59, 60, 61, 62, 63, 64, 65, 66, 67, 68, 69, 70, 71, 72, 73, 74, 75, 76, 77, 78, 79]\n"
     ]
    }
   ],
   "source": [
    "import psutil\n",
    "print(psutil.cpu_count(False))\n",
    "p = psutil.Process()\n",
    "print(p.cpu_affinity())\n",
    "# [0, 1, 2, 3]\n",
    "# print(list(range(0, 40, 2)))\n",
    "# p.cpu_affinity(range(0, 32, 2))"
   ]
  },
  {
   "cell_type": "code",
   "execution_count": 4,
   "metadata": {},
   "outputs": [
    {
     "name": "stderr",
     "output_type": "stream",
     "text": [
      "Using TensorFlow backend.\n"
     ]
    },
    {
     "name": "stdout",
     "output_type": "stream",
     "text": [
      "WARNING:tensorflow:From <ipython-input-4-e8e225193be2>:4: is_gpu_available (from tensorflow.python.framework.test_util) is deprecated and will be removed in a future version.\n",
      "Instructions for updating:\n",
      "Use `tf.config.list_physical_devices('GPU')` instead.\n",
      "13.271 (1469148.00) True\n"
     ]
    },
    {
     "ename": "AttributeError",
     "evalue": "module 'tensorflow_core._api.v2.config' has no attribute 'experimental_list_devices'",
     "output_type": "error",
     "traceback": [
      "\u001b[0;31m---------------------------------------------------------------------------\u001b[0m",
      "\u001b[0;31mAttributeError\u001b[0m                            Traceback (most recent call last)",
      "\u001b[0;32m<ipython-input-4-e8e225193be2>\u001b[0m in \u001b[0;36m<module>\u001b[0;34m\u001b[0m\n\u001b[1;32m     14\u001b[0m \u001b[0;34m\u001b[0m\u001b[0m\n\u001b[1;32m     15\u001b[0m \u001b[0;32mfrom\u001b[0m \u001b[0mkeras\u001b[0m \u001b[0;32mimport\u001b[0m \u001b[0mbackend\u001b[0m \u001b[0;32mas\u001b[0m \u001b[0mK\u001b[0m\u001b[0;34m\u001b[0m\u001b[0;34m\u001b[0m\u001b[0m\n\u001b[0;32m---> 16\u001b[0;31m \u001b[0mprint\u001b[0m\u001b[0;34m(\u001b[0m\u001b[0mK\u001b[0m\u001b[0;34m.\u001b[0m\u001b[0mtensorflow_backend\u001b[0m\u001b[0;34m.\u001b[0m\u001b[0m_get_available_gpus\u001b[0m\u001b[0;34m(\u001b[0m\u001b[0;34m)\u001b[0m\u001b[0;34m)\u001b[0m\u001b[0;34m\u001b[0m\u001b[0;34m\u001b[0m\u001b[0m\n\u001b[0m\u001b[1;32m     17\u001b[0m \u001b[0;32mfrom\u001b[0m \u001b[0mtensorflow\u001b[0m\u001b[0;34m.\u001b[0m\u001b[0mpython\u001b[0m\u001b[0;34m.\u001b[0m\u001b[0mclient\u001b[0m \u001b[0;32mimport\u001b[0m \u001b[0mdevice_lib\u001b[0m\u001b[0;34m\u001b[0m\u001b[0;34m\u001b[0m\u001b[0m\n\u001b[1;32m     18\u001b[0m \u001b[0mprint\u001b[0m\u001b[0;34m(\u001b[0m\u001b[0;34m'Local: '\u001b[0m\u001b[0;34m,\u001b[0m \u001b[0mdevice_lib\u001b[0m\u001b[0;34m.\u001b[0m\u001b[0mlist_local_devices\u001b[0m\u001b[0;34m(\u001b[0m\u001b[0;34m)\u001b[0m\u001b[0;34m)\u001b[0m\u001b[0;34m\u001b[0m\u001b[0;34m\u001b[0m\u001b[0m\n",
      "\u001b[0;32m/usr/local/lib/python3.6/dist-packages/keras/backend/tensorflow_backend.py\u001b[0m in \u001b[0;36m_get_available_gpus\u001b[0;34m()\u001b[0m\n\u001b[1;32m    504\u001b[0m             \u001b[0m_LOCAL_DEVICES\u001b[0m \u001b[0;34m=\u001b[0m \u001b[0;34m[\u001b[0m\u001b[0mx\u001b[0m\u001b[0;34m.\u001b[0m\u001b[0mname\u001b[0m \u001b[0;32mfor\u001b[0m \u001b[0mx\u001b[0m \u001b[0;32min\u001b[0m \u001b[0mdevices\u001b[0m\u001b[0;34m]\u001b[0m\u001b[0;34m\u001b[0m\u001b[0;34m\u001b[0m\u001b[0m\n\u001b[1;32m    505\u001b[0m         \u001b[0;32melse\u001b[0m\u001b[0;34m:\u001b[0m\u001b[0;34m\u001b[0m\u001b[0;34m\u001b[0m\u001b[0m\n\u001b[0;32m--> 506\u001b[0;31m             \u001b[0m_LOCAL_DEVICES\u001b[0m \u001b[0;34m=\u001b[0m \u001b[0mtf\u001b[0m\u001b[0;34m.\u001b[0m\u001b[0mconfig\u001b[0m\u001b[0;34m.\u001b[0m\u001b[0mexperimental_list_devices\u001b[0m\u001b[0;34m(\u001b[0m\u001b[0;34m)\u001b[0m\u001b[0;34m\u001b[0m\u001b[0;34m\u001b[0m\u001b[0m\n\u001b[0m\u001b[1;32m    507\u001b[0m     \u001b[0;32mreturn\u001b[0m \u001b[0;34m[\u001b[0m\u001b[0mx\u001b[0m \u001b[0;32mfor\u001b[0m \u001b[0mx\u001b[0m \u001b[0;32min\u001b[0m \u001b[0m_LOCAL_DEVICES\u001b[0m \u001b[0;32mif\u001b[0m \u001b[0;34m'device:gpu'\u001b[0m \u001b[0;32min\u001b[0m \u001b[0mx\u001b[0m\u001b[0;34m.\u001b[0m\u001b[0mlower\u001b[0m\u001b[0;34m(\u001b[0m\u001b[0;34m)\u001b[0m\u001b[0;34m]\u001b[0m\u001b[0;34m\u001b[0m\u001b[0;34m\u001b[0m\u001b[0m\n\u001b[1;32m    508\u001b[0m \u001b[0;34m\u001b[0m\u001b[0m\n",
      "\u001b[0;31mAttributeError\u001b[0m: module 'tensorflow_core._api.v2.config' has no attribute 'experimental_list_devices'"
     ]
    }
   ],
   "source": [
    "import keras\n",
    "import tensorflow as tf\n",
    "tf.debugging.set_log_device_placement(True)\n",
    "print(tf.test.is_gpu_available())\n",
    "# config = tf.compat.v1.ConfigProto( device_count = {'XLA_GPU': 1 , 'CPU': 16} ) \n",
    "# gpus = tf.config.experimental.list_physical_devices('GPU')\n",
    "# print('Phys GPUs: ',len(gpus))\n",
    "# if gpus:\n",
    "#     for gpu in gpus:\n",
    "#         tf.config.experimental.set_memory_growth(gpu, True)      # Limiting usage to only necessary memory\n",
    "\n",
    "# sess = tf.Session(config=config) \n",
    "# keras.backend.set_session(sess) \n",
    "\n",
    "from keras import backend as K\n",
    "print(K.tensorflow_backend._get_available_gpus()) \n",
    "from tensorflow.python.client import device_lib\n",
    "print('Local: ', device_lib.list_local_devices())\n",
    "# print(device_lib.list_physical_devices())\n"
   ]
  },
  {
   "cell_type": "code",
   "execution_count": null,
   "metadata": {},
   "outputs": [],
   "source": [
    "# with tf.device('/XLA_GPU:0'):\n",
    "with tf.device('/device:xla_gpu:0'):\n",
    "#     config = tf.compat.v1.ConfigProto(intra_op_parallelism_threads=4,\\\n",
    "#            inter_op_parallelism_threads=4, allow_soft_placement=True,\\\n",
    "#            device_count = {'CPU' : 1, 'GPU' : 1})\n",
    "#     session = tf.compat.v1.Session(config=config)\n",
    "#     K.set_session(session)\n",
    "\n",
    "    a = tf.constant([[1.0, 2.0, 3.0], [4.0, 5.0, 6.0]])\n",
    "    b = tf.constant([[1.0, 2.0], [3.0, 4.0], [5.0, 6.0]])\n",
    "    c = tf.matmul(a, b)\n",
    "print(c)"
   ]
  },
  {
   "cell_type": "code",
   "execution_count": 5,
   "metadata": {},
   "outputs": [
    {
     "name": "stdout",
     "output_type": "stream",
     "text": [
      "13.703 (431910.00) 2.1.0\n"
     ]
    }
   ],
   "source": [
    "from IPython.display import Image\n",
    "import os\n",
    "import tensorflow as tf\n",
    "os.getcwd()\n",
    "print(tf.__version__)\n",
    "# !pwd\n",
    "\n",
    "import matplotlib.pyplot as plt\n",
    "import matplotlib\n",
    "%matplotlib inline \n",
    "\n",
    "# from VisQtMain import *\n",
    "\n",
    "# from ipyexperiments import *\n",
    "# exp2 = IPyExperimentsPytorch()\n",
    "# from VisJupyterNotUtils import *"
   ]
  },
  {
   "cell_type": "code",
   "execution_count": 6,
   "metadata": {},
   "outputs": [
    {
     "name": "stdout",
     "output_type": "stream",
     "text": [
      "13.731 ( 27944.00) 13\n",
      "Executing op VarHandleOp in device /job:localhost/replica:0/task:0/device:GPU:0\n",
      "Executing op VarIsInitializedOp in device /job:localhost/replica:0/task:0/device:GPU:0\n",
      "Executing op LogicalNot in device /job:localhost/replica:0/task:0/device:GPU:0\n",
      "Executing op Assert in device /job:localhost/replica:0/task:0/device:GPU:0\n",
      "Executing op AssignVariableOp in device /job:localhost/replica:0/task:0/device:GPU:0\n",
      "Executing op RandomUniform in device /job:localhost/replica:0/task:0/device:GPU:0\n",
      "Executing op Sub in device /job:localhost/replica:0/task:0/device:GPU:0\n",
      "Executing op Mul in device /job:localhost/replica:0/task:0/device:GPU:0\n",
      "Executing op Add in device /job:localhost/replica:0/task:0/device:GPU:0\n",
      "Executing op VarHandleOp in device /job:localhost/replica:0/task:0/device:GPU:0\n",
      "Executing op Fill in device /job:localhost/replica:0/task:0/device:GPU:0\n",
      "Executing op VarHandleOp in device /job:localhost/replica:0/task:0/device:GPU:0\n",
      "Executing op RandomUniform in device /job:localhost/replica:0/task:0/device:GPU:0\n",
      "Executing op VarHandleOp in device /job:localhost/replica:0/task:0/device:GPU:0\n",
      "Executing op VarHandleOp in device /job:localhost/replica:0/task:0/device:GPU:0\n",
      "Executing op RandomUniform in device /job:localhost/replica:0/task:0/device:GPU:0\n",
      "Executing op VarHandleOp in device /job:localhost/replica:0/task:0/device:GPU:0\n",
      "Executing op RandomUniform in device /job:localhost/replica:0/task:0/device:GPU:0\n",
      "Executing op RandomUniform in device /job:localhost/replica:0/task:0/device:GPU:0\n",
      "Executing op VarHandleOp in device /job:localhost/replica:0/task:0/device:GPU:0\n",
      "(None, 27, 27, 512)\n",
      "Executing op RandomUniform in device /job:localhost/replica:0/task:0/device:GPU:0\n",
      "Executing op VarHandleOp in device /job:localhost/replica:0/task:0/device:GPU:0\n",
      "Executing op VarHandleOp in device /job:localhost/replica:0/task:0/device:GPU:0\n",
      "conv_22_1:  (None, 25, 25, 16, 64)\n",
      "Executing op RandomUniform in device /job:localhost/replica:0/task:0/device:GPU:0\n",
      "Executing op VarHandleOp in device /job:localhost/replica:0/task:0/device:GPU:0\n",
      "conv_22_2:  (None, 25, 25, 32, 64)\n",
      "Executing op VarHandleOp in device /job:localhost/replica:0/task:0/device:GPU:0\n",
      "Executing op RandomUniform in device /job:localhost/replica:0/task:0/device:GPU:0\n",
      "Executing op VarHandleOp in device /job:localhost/replica:0/task:0/device:GPU:0\n",
      "conv_24_1:  (None, 17, 17, 24, 64)\n",
      "Executing op RandomUniform in device /job:localhost/replica:0/task:0/device:GPU:0\n",
      "Executing op VarHandleOp in device /job:localhost/replica:0/task:0/device:GPU:0\n",
      "conv_24_2:  (None, 17, 17, 12, 64)\n",
      "Executing op RandomUniform in device /job:localhost/replica:0/task:0/device:GPU:0\n",
      "Executing op VarHandleOp in device /job:localhost/replica:0/task:0/device:GPU:0\n",
      "Executing op RandomUniform in device /job:localhost/replica:0/task:0/device:GPU:0\n",
      "Executing op VarHandleOp in device /job:localhost/replica:0/task:0/device:GPU:0\n",
      "Executing op VarHandleOp in device /job:localhost/replica:0/task:0/device:GPU:0\n",
      "Executing op RandomUniform in device /job:localhost/replica:0/task:0/device:GPU:0\n",
      "Executing op VarHandleOp in device /job:localhost/replica:0/task:0/device:GPU:0\n",
      "Executing op VarHandleOp in device /job:localhost/replica:0/task:0/device:GPU:0\n",
      "Executing op RandomUniform in device /job:localhost/replica:0/task:0/device:GPU:0\n",
      "Executing op VarHandleOp in device /job:localhost/replica:0/task:0/device:GPU:0\n",
      "Executing op VarHandleOp in device /job:localhost/replica:0/task:0/device:GPU:0\n",
      "Executing op RandomUniform in device /job:localhost/replica:0/task:0/device:GPU:0\n",
      "Executing op VarHandleOp in device /job:localhost/replica:0/task:0/device:GPU:0\n",
      "Executing op RandomUniform in device /job:localhost/replica:0/task:0/device:GPU:0\n",
      "Executing op VarHandleOp in device /job:localhost/replica:0/task:0/device:GPU:0\n",
      "Executing op RandomUniform in device /job:localhost/replica:0/task:0/device:GPU:0\n",
      "Executing op VarHandleOp in device /job:localhost/replica:0/task:0/device:GPU:0\n",
      "Executing op VarHandleOp in device /job:localhost/replica:0/task:0/device:GPU:0\n",
      "Model: \"model_1\"\n",
      "__________________________________________________________________________________________________\n",
      "Layer (type)                    Output Shape         Param #     Connected to                     \n",
      "==================================================================================================\n",
      "input_1 (InputLayer)            (None, 227, 227, 3)  0                                            \n",
      "__________________________________________________________________________________________________\n",
      "conv_11 (Conv2D)                (None, 111, 111, 128 18944       input_1[0][0]                    \n",
      "__________________________________________________________________________________________________\n",
      "lambda_1 (Lambda)               (None, 74, 74, 128)  0           conv_11[0][0]                    \n",
      "__________________________________________________________________________________________________\n",
      "cross_chan_norm_120 (Lambda)    (None, 74, 74, 128)  0           lambda_1[0][0]                   \n",
      "__________________________________________________________________________________________________\n",
      "cross_chan_norm_121 (Lambda)    (None, 74, 74, 128)  0           lambda_1[0][0]                   \n",
      "__________________________________________________________________________________________________\n",
      "batch_normalization_1 (BatchNor (None, 74, 74, 128)  512         cross_chan_norm_120[0][0]        \n",
      "__________________________________________________________________________________________________\n",
      "batch_normalization_3 (BatchNor (None, 74, 74, 128)  512         cross_chan_norm_121[0][0]        \n",
      "__________________________________________________________________________________________________\n",
      "lambda_2 (Lambda)               (None, 74, 74, 64)   0           batch_normalization_1[0][0]      \n",
      "__________________________________________________________________________________________________\n",
      "lambda_4 (Lambda)               (None, 74, 74, 64)   0           batch_normalization_3[0][0]      \n",
      "__________________________________________________________________________________________________\n",
      "conv_12_0 (Conv2D)              (None, 35, 35, 256)  409856      lambda_2[0][0]                   \n",
      "__________________________________________________________________________________________________\n",
      "conv_12_1 (Conv2D)              (None, 35, 35, 256)  409856      lambda_4[0][0]                   \n",
      "__________________________________________________________________________________________________\n",
      "spatial_dropout2d_1 (SpatialDro (None, 35, 35, 256)  0           conv_12_0[0][0]                  \n",
      "__________________________________________________________________________________________________\n",
      "spatial_dropout2d_2 (SpatialDro (None, 35, 35, 256)  0           conv_12_1[0][0]                  \n",
      "__________________________________________________________________________________________________\n",
      "batch_normalization_2 (BatchNor (None, 35, 35, 256)  1024        spatial_dropout2d_1[0][0]        \n",
      "__________________________________________________________________________________________________\n",
      "batch_normalization_4 (BatchNor (None, 35, 35, 256)  1024        spatial_dropout2d_2[0][0]        \n",
      "__________________________________________________________________________________________________\n",
      "conv_13_0 (Conv2D)              (None, 35, 35, 256)  590080      batch_normalization_2[0][0]      \n",
      "__________________________________________________________________________________________________\n",
      "input_2 (InputLayer)            (None, 2)            0                                            \n",
      "__________________________________________________________________________________________________\n",
      "conv_13_1 (Conv2D)              (None, 35, 35, 256)  590080      batch_normalization_4[0][0]      \n",
      "__________________________________________________________________________________________________\n",
      "add_123_0 (Add)                 (None, 35, 35, 256)  0           spatial_dropout2d_1[0][0]        \n",
      "                                                                 conv_13_0[0][0]                  \n",
      "__________________________________________________________________________________________________\n",
      "lambda_3 (Lambda)               (None, 1)            0           input_2[0][0]                    \n",
      "__________________________________________________________________________________________________\n",
      "add_123_1 (Add)                 (None, 35, 35, 256)  0           spatial_dropout2d_2[0][0]        \n",
      "                                                                 conv_13_1[0][0]                  \n",
      "__________________________________________________________________________________________________\n",
      "lambda_5 (Lambda)               (None, 1)            0           input_2[0][0]                    \n",
      "__________________________________________________________________________________________________\n",
      "multiply_1 (Multiply)           (None, 35, 35, 256)  0           add_123_0[0][0]                  \n",
      "                                                                 lambda_3[0][0]                   \n",
      "__________________________________________________________________________________________________\n",
      "multiply_2 (Multiply)           (None, 35, 35, 256)  0           add_123_1[0][0]                  \n",
      "                                                                 lambda_5[0][0]                   \n",
      "__________________________________________________________________________________________________\n",
      "conv_1_adds (Concatenate)       (None, 35, 35, 512)  0           multiply_1[0][0]                 \n",
      "                                                                 multiply_2[0][0]                 \n",
      "__________________________________________________________________________________________________\n",
      "lambda_6 (Lambda)               (None, 27, 27, 512)  0           conv_1_adds[0][0]                \n",
      "__________________________________________________________________________________________________\n",
      "batch_normalization_5 (BatchNor (None, 27, 27, 512)  2048        lambda_6[0][0]                   \n",
      "__________________________________________________________________________________________________\n",
      "reshape_1 (Reshape)             (None, 27, 27, 16, 3 0           batch_normalization_5[0][0]      \n",
      "__________________________________________________________________________________________________\n",
      "reshape_2 (Reshape)             (None, 27, 27, 32, 1 0           batch_normalization_5[0][0]      \n",
      "__________________________________________________________________________________________________\n",
      "conv_22_1 (Conv3D)              (None, 25, 25, 16, 6 18496       reshape_1[0][0]                  \n",
      "__________________________________________________________________________________________________\n",
      "conv_22_2 (Conv3D)              (None, 25, 25, 32, 6 9280        reshape_2[0][0]                  \n",
      "__________________________________________________________________________________________________\n",
      "concat_23 (Concatenate)         (None, 25, 25, 48, 6 0           conv_22_1[0][0]                  \n",
      "                                                                 conv_22_2[0][0]                  \n",
      "__________________________________________________________________________________________________\n",
      "reshape_3 (Reshape)             (None, 25, 25, 3072) 0           concat_23[0][0]                  \n",
      "__________________________________________________________________________________________________\n",
      "lambda_7 (Lambda)               (None, 19, 19, 3072) 0           reshape_3[0][0]                  \n",
      "__________________________________________________________________________________________________\n",
      "batch_normalization_6 (BatchNor (None, 19, 19, 3072) 12288       lambda_7[0][0]                   \n",
      "__________________________________________________________________________________________________\n",
      "reshape_4 (Reshape)             (None, 19, 19, 24, 1 0           batch_normalization_6[0][0]      \n",
      "__________________________________________________________________________________________________\n",
      "reshape_5 (Reshape)             (None, 19, 19, 12, 2 0           reshape_4[0][0]                  \n",
      "__________________________________________________________________________________________________\n",
      "conv_24_1 (Conv3D)              (None, 17, 17, 24, 6 73792       reshape_4[0][0]                  \n",
      "__________________________________________________________________________________________________\n",
      "conv_24_2 (Conv3D)              (None, 17, 17, 12, 6 147520      reshape_5[0][0]                  \n",
      "__________________________________________________________________________________________________\n",
      "reshape_6 (Reshape)             (None, 17, 17, 1536) 0           conv_24_1[0][0]                  \n",
      "__________________________________________________________________________________________________\n",
      "reshape_7 (Reshape)             (None, 17, 17, 768)  0           conv_24_2[0][0]                  \n",
      "__________________________________________________________________________________________________\n",
      "conv_25_1 (Conv2D)              (None, 16, 16, 512)  3146240     reshape_6[0][0]                  \n",
      "__________________________________________________________________________________________________\n",
      "conv_25_2 (Conv2D)              (None, 16, 16, 512)  1573376     reshape_7[0][0]                  \n",
      "__________________________________________________________________________________________________\n",
      "concat_3 (Concatenate)          (None, 16, 16, 1024) 0           conv_25_1[0][0]                  \n",
      "                                                                 conv_25_2[0][0]                  \n",
      "__________________________________________________________________________________________________\n",
      "lambda_8 (Lambda)               (None, 12, 12, 1024) 0           concat_3[0][0]                   \n",
      "__________________________________________________________________________________________________\n",
      "batch_normalization_7 (BatchNor (None, 12, 12, 1024) 4096        lambda_8[0][0]                   \n",
      "__________________________________________________________________________________________________\n",
      "conv_3 (Conv2D)                 (None, 10, 10, 192)  1769664     batch_normalization_7[0][0]      \n",
      "__________________________________________________________________________________________________\n",
      "spatial_dropout2d_3 (SpatialDro (None, 10, 10, 192)  0           conv_3[0][0]                     \n",
      "__________________________________________________________________________________________________\n",
      "lambda_9 (Lambda)               (None, 7, 7, 192)    0           spatial_dropout2d_3[0][0]        \n",
      "__________________________________________________________________________________________________\n",
      "conv_4 (Conv2D)                 (None, 5, 5, 384)    663936      lambda_9[0][0]                   \n",
      "__________________________________________________________________________________________________\n",
      "lambda_10 (Lambda)              (None, 3, 3, 384)    0           conv_4[0][0]                     \n",
      "__________________________________________________________________________________________________\n",
      "batch_normalization_8 (BatchNor (None, 3, 3, 384)    1536        lambda_10[0][0]                  \n",
      "__________________________________________________________________________________________________\n",
      "flatten (Flatten)               (None, 3456)         0           batch_normalization_8[0][0]      \n",
      "__________________________________________________________________________________________________\n",
      "dense_1 (Dense)                 (None, 128)          442496      flatten[0][0]                    \n",
      "__________________________________________________________________________________________________\n",
      "dropout_1 (Dropout)             (None, 128)          0           dense_1[0][0]                    \n",
      "__________________________________________________________________________________________________\n",
      "dense_2 (Dense)                 (None, 256)          33024       dropout_1[0][0]                  \n",
      "__________________________________________________________________________________________________\n",
      "dropout_2 (Dropout)             (None, 256)          0           dense_2[0][0]                    \n",
      "__________________________________________________________________________________________________\n",
      "dense_3 (Dense)                 (None, 24)           6168        dropout_2[0][0]                  \n",
      "__________________________________________________________________________________________________\n",
      "lambda_11 (Lambda)              (None, 24)           0           dense_3[0][0]                    \n",
      "__________________________________________________________________________________________________\n",
      "softmax (Activation)            (None, 24)           0           lambda_11[0][0]                  \n",
      "==================================================================================================\n",
      "Total params: 9,925,848\n",
      "Trainable params: 9,914,328\n",
      "Non-trainable params: 11,520\n",
      "__________________________________________________________________________________________________\n",
      "None\n",
      "Executing op VarHandleOp in device /job:localhost/replica:0/task:0/device:GPU:0\n"
     ]
    }
   ],
   "source": [
    "print(controlObj.getSelectedEpochNum())\n",
    "controlObj.netWrapper._initMainNet()\n",
    "# %cp Logs2/*.h5 QtLogs/\n",
    "controlObj.curImageNum = 100\n",
    "controlObj.curLayerName = 'conv_11'"
   ]
  },
  {
   "cell_type": "code",
   "execution_count": 7,
   "metadata": {},
   "outputs": [
    {
     "ename": "ModuleNotFoundError",
     "evalue": "No module named 'cca_core'",
     "output_type": "error",
     "traceback": [
      "\u001b[0;31m---------------------------------------------------------------------------\u001b[0m",
      "\u001b[0;31mModuleNotFoundError\u001b[0m                       Traceback (most recent call last)",
      "\u001b[0;32m<ipython-input-7-26adec8c2503>\u001b[0m in \u001b[0;36m<module>\u001b[0;34m\u001b[0m\n\u001b[0;32m----> 1\u001b[0;31m \u001b[0mcorrelatImg\u001b[0m \u001b[0;34m=\u001b[0m \u001b[0mcontrolObj\u001b[0m\u001b[0;34m.\u001b[0m\u001b[0mdoCorrelationAnalyzis\u001b[0m\u001b[0;34m(\u001b[0m\u001b[0;32mFalse\u001b[0m\u001b[0;34m)\u001b[0m\u001b[0;34m\u001b[0m\u001b[0;34m\u001b[0m\u001b[0m\n\u001b[0m\u001b[1;32m      2\u001b[0m \u001b[0;31m# controlObj.onCorrelationAnalyzisPressed()\u001b[0m\u001b[0;34m\u001b[0m\u001b[0;34m\u001b[0m\u001b[0;34m\u001b[0m\u001b[0m\n",
      "\u001b[0;32m~/Visualiz_Zeiler/VisJupyterNotUtils.py\u001b[0m in \u001b[0;36mdoCorrelationAnalyzis\u001b[0;34m(self, toOtherModel)\u001b[0m\n\u001b[1;32m   1159\u001b[0m \u001b[0;34m\u001b[0m\u001b[0m\n\u001b[1;32m   1160\u001b[0m     \u001b[0;32mdef\u001b[0m \u001b[0mdoCorrelationAnalyzis\u001b[0m\u001b[0;34m(\u001b[0m\u001b[0mself\u001b[0m\u001b[0;34m,\u001b[0m \u001b[0mtoOtherModel\u001b[0m\u001b[0;34m)\u001b[0m\u001b[0;34m:\u001b[0m\u001b[0;34m\u001b[0m\u001b[0;34m\u001b[0m\u001b[0m\n\u001b[0;32m-> 1161\u001b[0;31m         \u001b[0;32mimport\u001b[0m \u001b[0mCorrelatAnalyzis\u001b[0m\u001b[0;34m\u001b[0m\u001b[0;34m\u001b[0m\u001b[0m\n\u001b[0m\u001b[1;32m   1162\u001b[0m \u001b[0;34m\u001b[0m\u001b[0m\n\u001b[1;32m   1163\u001b[0m         \u001b[0;31m# self.f()\u001b[0m\u001b[0;34m\u001b[0m\u001b[0;34m\u001b[0m\u001b[0;34m\u001b[0m\u001b[0m\n",
      "\u001b[0;32m~/Visualiz_Zeiler/CorrelatAnalyzis.py\u001b[0m in \u001b[0;36m<module>\u001b[0;34m\u001b[0m\n\u001b[1;32m     27\u001b[0m \u001b[0msys\u001b[0m\u001b[0;34m.\u001b[0m\u001b[0mpath\u001b[0m\u001b[0;34m.\u001b[0m\u001b[0mappend\u001b[0m\u001b[0;34m(\u001b[0m\u001b[0;34m\"External/svcca\"\u001b[0m\u001b[0;34m)\u001b[0m\u001b[0;34m\u001b[0m\u001b[0;34m\u001b[0m\u001b[0m\n\u001b[1;32m     28\u001b[0m \u001b[0msys\u001b[0m\u001b[0;34m.\u001b[0m\u001b[0mpath\u001b[0m\u001b[0;34m.\u001b[0m\u001b[0mappend\u001b[0m\u001b[0;34m(\u001b[0m\u001b[0;34m\"../External/svcca\"\u001b[0m\u001b[0;34m)\u001b[0m\u001b[0;34m\u001b[0m\u001b[0;34m\u001b[0m\u001b[0m\n\u001b[0;32m---> 29\u001b[0;31m \u001b[0;32mimport\u001b[0m \u001b[0mcca_core\u001b[0m\u001b[0;34m\u001b[0m\u001b[0;34m\u001b[0m\u001b[0m\n\u001b[0m\u001b[1;32m     30\u001b[0m \u001b[0;34m\u001b[0m\u001b[0m\n\u001b[1;32m     31\u001b[0m \u001b[0;32mfrom\u001b[0m \u001b[0mMyUtils\u001b[0m \u001b[0;32mimport\u001b[0m \u001b[0;34m*\u001b[0m\u001b[0;34m\u001b[0m\u001b[0;34m\u001b[0m\u001b[0m\n",
      "\u001b[0;31mModuleNotFoundError\u001b[0m: No module named 'cca_core'"
     ]
    }
   ],
   "source": [
    "correlatImg = controlObj.doCorrelationAnalyzis(False)\n",
    "# controlObj.onCorrelationAnalyzisPressed()"
   ]
  },
  {
   "cell_type": "code",
   "execution_count": null,
   "metadata": {},
   "outputs": [],
   "source": [
    "# print(correlatImgimg)\n",
    "print(correlatImg.shape, correlatImg.dtype)\n",
    "plt.figure(figsize=(20,8))\n",
    "ax = plt.subplot(2,2,2)\n",
    "ax.plot(correlatImg[0])\n",
    "# plt.imshow(img / 255.0)\n",
    "plt.show()"
   ]
  },
  {
   "cell_type": "code",
   "execution_count": null,
   "metadata": {},
   "outputs": [],
   "source": [
    "ds = controlObj.imageDataset.getTfDataset('test') \n",
    "# print(ds)\n",
    "plt.figure(figsize=(8,8))\n",
    "for n, val in enumerate(ds.take(3)):\n",
    "    # ??val\n",
    "    # print(val)\n",
    "    imageNum = val[0].numpy()\n",
    "    # classInd = val[1].numpy()\n",
    "    classInd = val[1].numpy()\n",
    "#     if imageNum % 1000 == 0:\n",
    "#         print(val)\n",
    "#     continue\n",
    "    className = controlObj.imageDataset.getClassNameLabel(classInd) #.decode('ascii')\n",
    "#     print(image.numpy().shape)\n",
    "    ax = plt.subplot(4,4,n+1)\n",
    "    plt.text(1.1, 0.5, '%s (%s)' % (className, str(classInd)),  \n",
    "          transform = ax.transAxes)\n",
    "    image = controlObj.imageDataset.getImage(imageNum, 'cropped', 'test')\n",
    "    plt.imshow(image / 255.0)\n",
    "    #   plt.legend( bbox_to_anchor=(1.05, 1), loc='upper left')\n",
    "    plt.grid(False)\n",
    "    plt.xticks([])\n",
    "    plt.yticks([])\n",
    "    plt.show()"
   ]
  },
  {
   "cell_type": "code",
   "execution_count": null,
   "metadata": {},
   "outputs": [],
   "source": [
    "ax = controlObj.getMainSubplot()\n",
    "ax.legend()\n",
    "ax.plot(img)\n",
    "ax.title.set_text('Variance distribution')\n",
    "controlObj.drawFigure()"
   ]
  },
  {
   "cell_type": "code",
   "execution_count": null,
   "metadata": {},
   "outputs": [],
   "source": [
    "controlObj.curLayerName = 'conv_11'\n",
    "controlObj.curImageNum = 2000\n",
    "controlObj.maxAnalyzeChanCount = 2000\n",
    "img = controlObj.buildMultActTops()\n",
    "# imshow(img);"
   ]
  },
  {
   "cell_type": "code",
   "execution_count": null,
   "metadata": {},
   "outputs": [],
   "source": [
    "controlObj.curLayerName = 'conv_21'\n",
    "controlObj.curImageNum = 5000\n",
    "# img = controlObj.buildMultActTops()\n",
    "# imshow(img);"
   ]
  },
  {
   "cell_type": "code",
   "execution_count": null,
   "metadata": {},
   "outputs": [],
   "source": [
    "from alexnet_utils import imresize\n",
    "controlObj.curLayerName = 'dense_1'\n",
    "controlObj.curImageNum = 10000\n",
    "controlObj.maxAnalyzeChanCount = 200\n",
    "# img = controlObj.buildMultActTops()\n",
    "# img = imresize((img, img.size[0] // 3, img.size[1] // 3))"
   ]
  },
  {
   "cell_type": "code",
   "execution_count": null,
   "metadata": {},
   "outputs": [],
   "source": [
    "print(img.shape)\n",
    "plt.figure(figsize=(30,30))\n",
    "imshow(img / 256.0);"
   ]
  },
  {
   "cell_type": "code",
   "execution_count": null,
   "metadata": {},
   "outputs": [],
   "source": [
    "print(len(controlObj.imageDataset.trainSubset.folders))\n",
    "for imageNum in range(1, 7):\n",
    "    image = controlObj.imageDataset.getImage(imageNum, 'cropped', 'test').astype(np.uint8)\n",
    "#     print(image.shape, image.dtype)\n",
    "    imshow(image);\n",
    "    plt.show()\n",
    "    label = controlObj.imageDataset.getImageLabel(imageNum)\n",
    "    print('%d - %s' % (label, controlObj.imageDataset.getClassNameLabel(label)))\n",
    "    activations = controlObj.netWrapper.getImageActivations('dense_3', imageNum, epochNum)\n",
    "    print(activations, 'max', activations.max(),\n",
    "          controlObj.imageDataset.getClassNameLabel(int(np.argmax(activations))))"
   ]
  },
  {
   "cell_type": "markdown",
   "metadata": {},
   "source": [
    "print(controlObj.getSelectedEpochNum())\n",
    "activations, drawMode, stdData = controlObj.getActivationsData(epochNum, imageNum, layerName)\n",
    "actImage = layoutLayersToOneImage(np.sqrt(activations), colCount, margin)\n",
    "print(activations.shape, actImage.shape)\n",
    "imshow(actImage);"
   ]
  },
  {
   "cell_type": "code",
   "execution_count": null,
   "metadata": {},
   "outputs": [],
   "source": [
    "for i in range(0):\n",
    "    activations = controlObj.netWrapper.getImageActivations('dense_2', i, epochNum)\n",
    "    print(activations);"
   ]
  },
  {
   "cell_type": "code",
   "execution_count": null,
   "metadata": {},
   "outputs": [],
   "source": [
    "tfTestDataset = controlObj.imageDataset.getTfDataset('test')"
   ]
  },
  {
   "cell_type": "code",
   "execution_count": null,
   "metadata": {},
   "outputs": [],
   "source": [
    "ds = controlObj.imageDataset.getTfDataset()\n",
    "print(ds)\n",
    "\n",
    "plt.figure(figsize=(8,8))\n",
    "for n, val in enumerate(ds.take(7)):\n",
    "  # ??val\n",
    "  image = val[0][0].numpy()\n",
    "  # classInd = val[1].numpy()\n",
    "  class = val[1][0].numpy()\n",
    "  className = controlObj.imageDataset.getClassNameByInd(classInd) #.decode('ascii')\n",
    "  print(image.numpy().shape)\n",
    "  ax = plt.subplot(4,4,n+1)\n",
    "  plt.text(1.1, 0.5, '%s (%d)' % (className, str(class)),  \n",
    "          transform = ax.transAxes)\n",
    "  plt.imshow(image)\n",
    "#   plt.legend( bbox_to_anchor=(1.05, 1), loc='upper left')\n",
    "  plt.grid(False)\n",
    "  plt.xticks([])\n",
    "  plt.yticks([])\n",
    "  plt.show()"
   ]
  },
  {
   "cell_type": "code",
   "execution_count": null,
   "metadata": {},
   "outputs": [],
   "source": [
    "if 1:\n",
    "    imList = enumerate(tfDataset.take(6))\n",
    "    #??imList\n",
    "#     print(imList[0].shape())\n",
    "else:\n",
    "    v = next(tfDataset)\n",
    "    imList = [im for im in v[0][:6]]\n",
    "matrixImage = layoutLayersToOneImage(np.stack(imList), 3, margin)\n",
    "imshow(matrixImage);\n",
    "print(v[1][:6])"
   ]
  },
  {
   "cell_type": "code",
   "execution_count": null,
   "metadata": {},
   "outputs": [],
   "source": [
    "controlObj.netWrapper.imageCache.maxMemory = 4 << 30"
   ]
  },
  {
   "cell_type": "code",
   "execution_count": null,
   "metadata": {},
   "outputs": [],
   "source": [
    "print(controlObj.netWrapper.getCacheStatusInfo(True))"
   ]
  },
  {
   "cell_type": "code",
   "execution_count": null,
   "metadata": {},
   "outputs": [],
   "source": [
    "plt.figure(figsize=(20,10))\n",
    "columns = 5\n",
    "for i in range(3):\n",
    "    imshow(activations[i],cmap='Greys_r')   # Displays only one\n",
    "#display(activations[1])"
   ]
  },
  {
   "cell_type": "code",
   "execution_count": null,
   "metadata": {},
   "outputs": [],
   "source": []
  },
  {
   "cell_type": "code",
   "execution_count": null,
   "metadata": {},
   "outputs": [],
   "source": [
    "def showImagesMatrix(data, col=2):\n",
    "    fig = figure( figsize=(600, 300))\n",
    "    number_of_files = len(data)\n",
    "    print(number_of_files)\n",
    "    row = number_of_files/col\n",
    "    if (number_of_files%col != 0):\n",
    "        row += 1\n",
    "    for i in range(number_of_files):\n",
    "        a=fig.add_subplot(row,col,i+1)\n",
    "        # image = imread(mypath+'/'+list_of_files[i])\n",
    "        axis('off')\n",
    "        print('Image %d drawn' % i)\n",
    "    # Very slow at the end\n",
    "        \n",
    "showImagesMatrix(activations[1:8])"
   ]
  },
  {
   "cell_type": "code",
   "execution_count": null,
   "metadata": {},
   "outputs": [],
   "source": []
  },
  {
   "cell_type": "code",
   "execution_count": null,
   "metadata": {},
   "outputs": [],
   "source": [
    "count = 0\n",
    "for i in np.random.permutation(600)[:4]:\n",
    "    count = count + 1\n",
    "    plt.subplot(1, sample_size, count)\n",
    "    plt.axhline('')\n",
    "    plt.axvline('')\n",
    "    plt.text(x=10, y=-10, s=y_train[i], fontsize=18)\n",
    "    plt.imshow(X_train[i].reshape(28, 28), cmap=plt.cm.Greys)"
   ]
  },
  {
   "cell_type": "code",
   "execution_count": null,
   "metadata": {},
   "outputs": [],
   "source": [
    "im = Image(filename=\"image/000644.jpg\", width=100, height=100)\n",
    "im.shape()"
   ]
  },
  {
   "cell_type": "code",
   "execution_count": null,
   "metadata": {},
   "outputs": [],
   "source": [
    "![title](images/000644.png)"
   ]
  },
  {
   "cell_type": "code",
   "execution_count": null,
   "metadata": {},
   "outputs": [],
   "source": [
    "from IPython.display import Image          # Displaying of multiple images. To check\n",
    "from IPython.display import display\n",
    "x = Image(filename='1.png') \n",
    "y = Image(filename='2.png') \n",
    "display(x, y)"
   ]
  },
  {
   "cell_type": "code",
   "execution_count": null,
   "metadata": {},
   "outputs": [],
   "source": []
  },
  {
   "cell_type": "code",
   "execution_count": null,
   "metadata": {},
   "outputs": [],
   "source": [
    "out = widgets.Output(layout={'border': '1px solid black'})\n",
    "with out:\n",
    "    display(widgets.IntSlider())"
   ]
  },
  {
   "cell_type": "code",
   "execution_count": null,
   "metadata": {},
   "outputs": [],
   "source": []
  },
  {
   "cell_type": "code",
   "execution_count": null,
   "metadata": {},
   "outputs": [],
   "source": []
  }
 ],
 "metadata": {
  "accelerator": "GPU",
  "colab": {
   "collapsed_sections": [],
   "machine_shape": "hm",
   "name": "MyColabImagesNetAn.ipynb",
   "provenance": []
  },
  "kernelspec": {
   "display_name": "Python 3",
   "language": "python",
   "name": "python3"
  },
  "language_info": {
   "codemirror_mode": {
    "name": "ipython",
    "version": 3
   },
   "file_extension": ".py",
   "mimetype": "text/x-python",
   "name": "python",
   "nbconvert_exporter": "python",
   "pygments_lexer": "ipython3",
   "version": "3.6.9"
  }
 },
 "nbformat": 4,
 "nbformat_minor": 1
}
