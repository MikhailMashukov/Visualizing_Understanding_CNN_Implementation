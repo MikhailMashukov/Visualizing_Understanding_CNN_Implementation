{
 "cells": [
  {
   "cell_type": "code",
   "execution_count": null,
   "metadata": {},
   "outputs": [],
   "source": [
    "imagesFolder = '/root/Visualiz_Zeiler/ImageNet/'\n",
    "# %tensorflow_version 2.x\n",
    "# !pip freeze\n",
    "# !printenv\n",
    "\n",
    "def init_Full():\n",
    "#     from google.colab import drive\n",
    "#     # !set | more\n",
    "#     drive.mount('/home/gdrive')\n",
    "#     %cd \"/home/gdrive/My Drive/Visualiz_Zeiler\"\n",
    "\n",
    "#     !pip uninstall imageio --yes\n",
    "#     !pip install imageio\n",
    "#     !pip uninstall keras --yes\n",
    "#     !pip install keras\n",
    "\n",
    "    !df -hm | grep overlay\n",
    "    !unzip VKIImageNetPart_TrainTestDivided.zip -d $imagesFolder >/dev/null\n",
    "    !df -hm\n",
    "    %mv \"$imagesFolder\"Test \"$imagesFolder\"test\n",
    "    %mv \"$imagesFolder\"Train \"$imagesFolder\"train\n",
    "\n",
    "    %ls -l \"$imagesFolder/test/Baltimore oriole/2543\"*\n",
    "    path = imagesFolder + 'train/baseball/2832539985_13d806a911'\n",
    "    # %ls -l \"$path\"* \n",
    "    %mv \"$path\"\".jpg\" \"$path\"\".png\"\n",
    "    %ls -l \"$path\"* \n",
    "\n",
    "    path = imagesFolder + 'test/Baltimore oriole/2543362638_8d77863b4c'\n",
    "    %mv \"$path\"\".jpg\" \"$path\"\".png\"\n",
    "    %ls -l \"$path\"* \n",
    "    \n",
    "    %pip install psutil\n",
    "    \n",
    "# %pip uninstall tf-nightly-gpu-2.0-preview --yes\n",
    "# %pip install tensorflow-gpu --upgrade\n",
    "\n",
    "# def initCurRuntime():\n",
    "#     %cd \"/home/gdrive/My Drive/Visualiz_Zeiler\"\n",
    "    \n",
    "# init_Full()    # Unzips images\n",
    "# initCurRuntime()\n",
    "\n",
    "# from VisColabUtils import *\n",
    "from VisJupyterNotUtils import *"
   ]
  },
  {
   "cell_type": "code",
   "execution_count": null,
   "metadata": {},
   "outputs": [],
   "source": [
    "from IPython.display import Image\n",
    "import os\n",
    "import tensorflow as tf\n",
    "os.getcwd()\n",
    "print(tf.__version__)\n",
    "# !pwd\n",
    "\n",
    "import matplotlib.pyplot as plt\n",
    "import matplotlib\n",
    "# %matplotlib inline \n",
    "%pylab inline \n",
    "plt.imshow(np.ones((5, 5, 3)))\n",
    "%pylab inline \n",
    "\n",
    "# from VisQtMain import *\n",
    "\n",
    "# from ipyexperiments import *\n",
    "# exp2 = IPyExperimentsPytorch()\n",
    "# from VisJupyterNotUtils import *\n",
    "print('Epoch ', controlObj.getSelectedEpochNum())"
   ]
  },
  {
   "cell_type": "code",
   "execution_count": null,
   "metadata": {},
   "outputs": [],
   "source": [
    "print('Epoch ', controlObj.getSelectedEpochNum())\n",
    "# controlObj.netWrapper.doubleLayerWeights(['conv_21', 'conv_3', 'dense_2'])\n",
    "controlObj.netWrapper.setLearnRate(controlObj.netWrapper.getRecommendedLearnRate())\n",
    "controlObj.netWrapper._getNet()\n",
    "# controlObj.netWrapper.net.model.summary()\n",
    "# %cp Logs2/*.h5 QtLogs/\n",
    "# controlObj.curEpochNum = 60\n",
    "controlObj.curLayerName = 'conv_11'\n",
    "# %pylab inline \n",
    "img = controlObj.showWeightsImage2()\n",
    "\n",
    "for controlObj.curLayerName in ['conv_12', 'conv_13', 'add_123', \n",
    "                                'conv_21', 'conv_22', 'add_223', 'conv_3', 'conv_4', 'conv_5',\n",
    "                                'dense_1', 'dense_2', 'dense_3']:\n",
    "    controlObj.curImageNum = 2\n",
    "    print(controlObj.curLayerName)\n",
    "    # img = controlObj.imageDataset.getImage(controlObj.curImageNum, 'cropped', 'train')\n",
    "    # plt.imshow(img / 255.0)\n",
    "    img = controlObj.onShowActivationsPressed()\n",
    "    controlObj.curImageNum = 4\n",
    "    img = controlObj.onShowActivationsPressed()"
   ]
  },
  {
   "cell_type": "code",
   "execution_count": null,
   "metadata": {},
   "outputs": [],
   "source": [
    "controlObj.curImageNum = 200\n",
    "controlObj.curLayerName = 'conv_11'\n",
    "correlatImg = controlObj.doCorrelationAnalyzis(False)\n",
    "# controlObj.onCorrelationAnalyzisPressed()"
   ]
  },
  {
   "cell_type": "raw",
   "metadata": {},
   "source": [
    "ax = controlObj.getMainSubplot()\n",
    "ax.legend()\n",
    "ax.plot(img)\n",
    "ax.title.set_text('Variance distribution')\n",
    "controlObj.drawFigure()"
   ]
  },
  {
   "cell_type": "code",
   "execution_count": null,
   "metadata": {},
   "outputs": [],
   "source": [
    "# for controlObj.curLayerName in ['conv_2', 'conv_3', 'conv_4', 'conv_5', \n",
    "#                                 'dense_1', 'dense_2', 'dense_3']:\n",
    "for controlObj.curLayerName in ['conv_3', 'conv_12', 'conv_13', \n",
    "                                'conv_21', 'conv_22', 'conv_23', 'conv_4', \n",
    "                                'dense_1', 'dense_2', 'dense_3']:\n",
    "    try:\n",
    "        controlObj.curImageNum = 200 if controlObj.curLayerName.find('dense') < 0 else 400\n",
    "        correlatImg = controlObj.doCorrelationAnalyzis(False)\n",
    "    except BaseException as e:\n",
    "        print('Exception on %s: ' % (controlObj.curLayerName, str(e)))"
   ]
  },
  {
   "cell_type": "code",
   "execution_count": null,
   "metadata": {},
   "outputs": [],
   "source": [
    "---------- # Stop\n",
    "controlObj.curLayerName = 'conv_11'\n",
    "controlObj.curImageNum = 1000\n",
    "controlObj.maxAnalyzeChanCount = 550\n",
    "img = controlObj.buildMultActTops()\n",
    "# imshow(img);"
   ]
  },
  {
   "cell_type": "code",
   "execution_count": null,
   "metadata": {},
   "outputs": [],
   "source": [
    "controlObj.curImageNum = 3000\n",
    "controlObj.curLayerName = 'conv_12'\n",
    "img = controlObj.buildMultActTops()\n",
    "\n",
    "controlObj.curImageNum = 10000\n",
    "# for controlObj.curLayerName in ['dense_2', 'conv_3', 'conv_4', 'conv_5', \n",
    "#                                 'dense_1', 'dense_3']:\n",
    "for controlObj.curLayerName in ['conv_3', 'dense_3', 'add_123']: \n",
    "                                #'conv_21', 'conv_22', 'add_223', 'conv_4', \n",
    "                                #'dense_1', 'dense_2']:\n",
    "    try:\n",
    "        img = controlObj.buildMultActTops()\n",
    "    except BaseException as e:\n",
    "        print('Exception on %s: ' % (controlObj.curLayerName, str(e)))"
   ]
  },
  {
   "cell_type": "code",
   "execution_count": null,
   "metadata": {},
   "outputs": [],
   "source": [
    "ds = controlObj.imageDataset.getTfDataset('test') \n",
    "# print(ds)\n",
    "plt.figure(figsize=(8,8))\n",
    "for n, val in enumerate(ds.take(7)):\n",
    "    # ??val\n",
    "    # print(val)\n",
    "    imageNum = val[0].numpy()\n",
    "    # classInd = val[1].numpy()\n",
    "    classInd = val[1].numpy()\n",
    "#     if imageNum % 1000 == 0:\n",
    "#         print(val)\n",
    "#     continue\n",
    "    className = controlObj.imageDataset.getClassNameLabel(classInd) #.decode('ascii')\n",
    "#     print(image.numpy().shape)\n",
    "    ax = plt.subplot(4,4,n+1)\n",
    "    plt.text(1.1, 0.5, '%s (%s)' % (className, str(classInd)),  \n",
    "          transform = ax.transAxes)\n",
    "    image = controlObj.imageDataset.getImage(imageNum, 'cropped', 'test')\n",
    "    plt.imshow(image / 255.0)\n",
    "    #   plt.legend( bbox_to_anchor=(1.05, 1), loc='upper left')\n",
    "    plt.grid(False)\n",
    "    plt.xticks([])\n",
    "    plt.yticks([])\n",
    "plt.show()"
   ]
  },
  {
   "cell_type": "code",
   "execution_count": null,
   "metadata": {},
   "outputs": [],
   "source": [
    "from alexnet_utils import imresize\n",
    "controlObj.curLayerName = 'dense_1'\n",
    "controlObj.curImageNum = 10000\n",
    "controlObj.maxAnalyzeChanCount = 200\n",
    "# img = controlObj.buildMultActTops()\n",
    "# img = imresize((img, img.size[0] // 3, img.size[1] // 3))"
   ]
  },
  {
   "cell_type": "code",
   "execution_count": null,
   "metadata": {},
   "outputs": [],
   "source": [
    "print(img.shape)\n",
    "plt.figure(figsize=(30,30))\n",
    "imshow(img / 256.0);"
   ]
  },
  {
   "cell_type": "code",
   "execution_count": null,
   "metadata": {},
   "outputs": [],
   "source": [
    "print(len(controlObj.imageDataset.trainSubset.folders))\n",
    "for imageNum in range(1, 7):\n",
    "    image = controlObj.imageDataset.getImage(imageNum, 'cropped', 'test').astype(np.uint8)\n",
    "#     print(image.shape, image.dtype)\n",
    "    imshow(image);\n",
    "    plt.show()\n",
    "    label = controlObj.imageDataset.getImageLabel(imageNum)\n",
    "    print('%d - %s' % (label, controlObj.imageDataset.getClassNameLabel(label)))\n",
    "    activations = controlObj.netWrapper.getImageActivations('dense_3', imageNum, epochNum)\n",
    "    print(activations, 'max', activations.max(),\n",
    "          controlObj.imageDataset.getClassNameLabel(int(np.argmax(activations))))"
   ]
  },
  {
   "cell_type": "markdown",
   "metadata": {},
   "source": [
    "print(controlObj.getSelectedEpochNum())\n",
    "activations, drawMode, stdData = controlObj.getActivationsData(epochNum, imageNum, layerName)\n",
    "actImage = layoutLayersToOneImage(np.sqrt(activations), colCount, margin)\n",
    "print(activations.shape, actImage.shape)\n",
    "imshow(actImage);"
   ]
  },
  {
   "cell_type": "code",
   "execution_count": null,
   "metadata": {},
   "outputs": [],
   "source": [
    "for i in range(0):\n",
    "    activations = controlObj.netWrapper.getImageActivations('dense_2', i, epochNum)\n",
    "    print(activations);"
   ]
  },
  {
   "cell_type": "code",
   "execution_count": null,
   "metadata": {},
   "outputs": [],
   "source": [
    "tfTestDataset = controlObj.imageDataset.getTfDataset('test')"
   ]
  },
  {
   "cell_type": "code",
   "execution_count": null,
   "metadata": {},
   "outputs": [],
   "source": [
    "ds = controlObj.imageDataset.getTfDataset()\n",
    "print(ds)\n",
    "\n",
    "plt.figure(figsize=(8,8))\n",
    "for n, val in enumerate(ds.take(7)):\n",
    "  # ??val\n",
    "  image = val[0][0].numpy()\n",
    "  # classInd = val[1].numpy()\n",
    "  class = val[1][0].numpy()\n",
    "  className = controlObj.imageDataset.getClassNameByInd(classInd) #.decode('ascii')\n",
    "  print(image.numpy().shape)\n",
    "  ax = plt.subplot(4,4,n+1)\n",
    "  plt.text(1.1, 0.5, '%s (%d)' % (className, str(class)),  \n",
    "          transform = ax.transAxes)\n",
    "  plt.imshow(image)\n",
    "#   plt.legend( bbox_to_anchor=(1.05, 1), loc='upper left')\n",
    "  plt.grid(False)\n",
    "  plt.xticks([])\n",
    "  plt.yticks([])\n",
    "  plt.show()"
   ]
  },
  {
   "cell_type": "code",
   "execution_count": null,
   "metadata": {},
   "outputs": [],
   "source": [
    "if 1:\n",
    "    imList = enumerate(tfDataset.take(6))\n",
    "    #??imList\n",
    "#     print(imList[0].shape())\n",
    "else:\n",
    "    v = next(tfDataset)\n",
    "    imList = [im for im in v[0][:6]]\n",
    "matrixImage = layoutLayersToOneImage(np.stack(imList), 3, margin)\n",
    "imshow(matrixImage);\n",
    "print(v[1][:6])"
   ]
  },
  {
   "cell_type": "code",
   "execution_count": null,
   "metadata": {},
   "outputs": [],
   "source": [
    "controlObj.netWrapper.imageCache.maxMemory = 4 << 30"
   ]
  },
  {
   "cell_type": "code",
   "execution_count": null,
   "metadata": {},
   "outputs": [],
   "source": [
    "print(controlObj.netWrapper.getCacheStatusInfo(True))"
   ]
  },
  {
   "cell_type": "code",
   "execution_count": null,
   "metadata": {},
   "outputs": [],
   "source": [
    "plt.figure(figsize=(20,10))\n",
    "columns = 5\n",
    "for i in range(3):\n",
    "    imshow(activations[i],cmap='Greys_r')   # Displays only one\n",
    "#display(activations[1])"
   ]
  },
  {
   "cell_type": "code",
   "execution_count": null,
   "metadata": {},
   "outputs": [],
   "source": []
  },
  {
   "cell_type": "code",
   "execution_count": null,
   "metadata": {},
   "outputs": [],
   "source": [
    "def showImagesMatrix(data, col=2):\n",
    "    fig = figure( figsize=(600, 300))\n",
    "    number_of_files = len(data)\n",
    "    print(number_of_files)\n",
    "    row = number_of_files/col\n",
    "    if (number_of_files%col != 0):\n",
    "        row += 1\n",
    "    for i in range(number_of_files):\n",
    "        a=fig.add_subplot(row,col,i+1)\n",
    "        # image = imread(mypath+'/'+list_of_files[i])\n",
    "        axis('off')\n",
    "        print('Image %d drawn' % i)\n",
    "    # Very slow at the end\n",
    "        \n",
    "showImagesMatrix(activations[1:8])"
   ]
  },
  {
   "cell_type": "code",
   "execution_count": null,
   "metadata": {},
   "outputs": [],
   "source": []
  },
  {
   "cell_type": "code",
   "execution_count": null,
   "metadata": {},
   "outputs": [],
   "source": [
    "count = 0\n",
    "for i in np.random.permutation(600)[:4]:\n",
    "    count = count + 1\n",
    "    plt.subplot(1, sample_size, count)\n",
    "    plt.axhline('')\n",
    "    plt.axvline('')\n",
    "    plt.text(x=10, y=-10, s=y_train[i], fontsize=18)\n",
    "    plt.imshow(X_train[i].reshape(28, 28), cmap=plt.cm.Greys)"
   ]
  },
  {
   "cell_type": "code",
   "execution_count": null,
   "metadata": {},
   "outputs": [],
   "source": [
    "im = Image(filename=\"image/000644.jpg\", width=100, height=100)\n",
    "im.shape()"
   ]
  },
  {
   "cell_type": "code",
   "execution_count": null,
   "metadata": {},
   "outputs": [],
   "source": [
    "![title](images/000644.png)"
   ]
  },
  {
   "cell_type": "code",
   "execution_count": null,
   "metadata": {},
   "outputs": [],
   "source": [
    "from IPython.display import Image          # Displaying of multiple images. To check\n",
    "from IPython.display import display\n",
    "x = Image(filename='1.png') \n",
    "y = Image(filename='2.png') \n",
    "display(x, y)"
   ]
  },
  {
   "cell_type": "code",
   "execution_count": null,
   "metadata": {},
   "outputs": [],
   "source": []
  },
  {
   "cell_type": "code",
   "execution_count": null,
   "metadata": {},
   "outputs": [],
   "source": [
    "out = widgets.Output(layout={'border': '1px solid black'})\n",
    "with out:\n",
    "    display(widgets.IntSlider())"
   ]
  },
  {
   "cell_type": "code",
   "execution_count": null,
   "metadata": {},
   "outputs": [],
   "source": [
    "import time\n",
    "t = time.clock()\n",
    "time.sleep(1.5)\n",
    "print (t, time.clock() - t)"
   ]
  },
  {
   "cell_type": "code",
   "execution_count": null,
   "metadata": {},
   "outputs": [],
   "source": []
  }
 ],
 "metadata": {
  "accelerator": "GPU",
  "colab": {
   "collapsed_sections": [],
   "machine_shape": "hm",
   "name": "MyColabImagesNetAn.ipynb",
   "provenance": []
  },
  "kernelspec": {
   "display_name": "Python 3",
   "language": "python",
   "name": "python3"
  },
  "language_info": {
   "codemirror_mode": {
    "name": "ipython",
    "version": 3
   },
   "file_extension": ".py",
   "mimetype": "text/x-python",
   "name": "python",
   "nbconvert_exporter": "python",
   "pygments_lexer": "ipython3",
   "version": "3.6.9"
  }
 },
 "nbformat": 4,
 "nbformat_minor": 1
}
