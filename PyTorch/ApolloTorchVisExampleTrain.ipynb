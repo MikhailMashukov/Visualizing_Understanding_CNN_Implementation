{
 "cells": [
  {
   "cell_type": "code",
   "execution_count": null,
   "metadata": {
    "scrolled": true
   },
   "outputs": [],
   "source": [
    "# PyTExample1\n",
    "from IPython.display import Image\n",
    "import os\n",
    "import torch\n",
    "os.getcwd()\n",
    "%matplotlib inline \n",
    "\n",
    "# from ipyexperiments import *\n",
    "# exp2 = IPyExperimentsPytorch()\n",
    "# from VisQtMain import *\n",
    "# from VisJupyterNotUtils import *"
   ]
  },
  {
   "cell_type": "code",
   "execution_count": null,
   "metadata": {
    "scrolled": false
   },
   "outputs": [],
   "source": [
    "from main import *\n",
    "\n",
    "# main()\n",
    "args = parser.parse_args(args=[ '-a', 'alexnet', '--lr', '0.01', \n",
    "                               '/root/Visualiz_Zeiler/ImageNet'])\n",
    "args.distributed = False\n",
    "ngpus_per_node = torch.cuda.device_count()\n",
    "main_worker(args.gpu, ngpus_per_node, args)"
   ]
  },
  {
   "cell_type": "code",
   "execution_count": null,
   "metadata": {
    "scrolled": true
   },
   "outputs": [],
   "source": [
    "---------\n",
    "# %rm -r QtLogs\n",
    "# %mv QtLogs/*[02468]0.* /home/16_3\n",
    "%mkdir -p PyTLogs/src\n",
    "%cp -f * PyTLogs/src/\n",
    "%cp -r PyTorch PyTLogs/src/"
   ]
  },
  {
   "cell_type": "code",
   "execution_count": null,
   "metadata": {
    "scrolled": true
   },
   "outputs": [],
   "source": [
    "if 0:\n",
    "    %pylab inline\n",
    "        \n",
    "#     controlObj.loadState()\n",
    "    model = controlObj.netWrapper._getNet()\n",
    "    imgs, classes = controlObj.netWrapper.getTrainBatch()"
   ]
  },
  {
   "cell_type": "code",
   "execution_count": null,
   "metadata": {
    "scrolled": true
   },
   "outputs": [],
   "source": [
    "# calcActivations(model, images, classes)"
   ]
  },
  {
   "cell_type": "code",
   "execution_count": null,
   "metadata": {
    "scrolled": false
   },
   "outputs": [],
   "source": [
    "%load_ext autoreload\n",
    "%autoreload 2\n",
    "\n",
    "controlObj.netWrapper.imageCache.maxMemory = 20 << 30\n",
    "controlObj.netWrapper.imageCache.maxLruSize = 20 << 10\n",
    "# controlObj.netWrapper.setLearnRate(controlObj.netWrapper.getRecommendedLearnRate())\n",
    "controlObj.netWrapper._getNet()\n",
    "controlObj.netWrapper.setBatchSize(128) \n",
    "print(controlObj.netWrapper.getBatchSize()) #, controlObj.getTowerWeights())\n",
    "# Warmup\n",
    "stepCount = 200 // 5\n",
    "for i in range(50, stepCount):\n",
    "    controlObj.learnRate = 1e-10 + 1e-4 * i / stepCount\n",
    "    controlObj.onDoItersPressed(100)\n",
    "# controlObj.netWrapper.doubleLayerWeights(['conv_22'])\n",
    "# controlObj.setTowerWeights([1, 1, 0, 0, 0,  1, 1, 0, 0, 0,  1, 1])\n",
    "# controlObj.curEpochNum = 43\n",
    "# controlObj.loadState(controlObj.curEpochNum)\n",
    "# for layerName in ['conv_11', 'conv_12', 'conv_13', 'conv_21']:\n",
    "#     controlObj.netWrapper.setLayerTrainable(layerName, False)"
   ]
  },
  {
   "cell_type": "code",
   "execution_count": null,
   "metadata": {
    "scrolled": true
   },
   "outputs": [],
   "source": [
    "# controlObj.curEpochNum = 1240\n",
    "# controlObj.loadState(controlObj.curEpochNum)\n",
    "# controlObj.netWrapper.setBatchSize(64)    # Restarting data loaders\n",
    "controlObj.learnRate = 1e-4\n",
    "# controlObj.netWrapper.net.batchSize = 512\n",
    "controlObj.onDoItersPressed(30000)"
   ]
  },
  {
   "cell_type": "code",
   "execution_count": null,
   "metadata": {
    "scrolled": false
   },
   "outputs": [],
   "source": [
    "controlObj.learnRate = 1e-5\n",
    "controlObj.netWrapper.setBatchSize(128)    # Restarting data loaders\n",
    "controlObj.onDoItersPressed(40000)"
   ]
  },
  {
   "cell_type": "code",
   "execution_count": null,
   "metadata": {
    "scrolled": true
   },
   "outputs": [],
   "source": [
    "controlObj.learnRate = 1e-6\n",
    "controlObj.netWrapper.setBatchSize(64)    # Restarting data loaders\n",
    "controlObj.onDoItersPressed(80000)"
   ]
  },
  {
   "cell_type": "code",
   "execution_count": null,
   "metadata": {
    "scrolled": true
   },
   "outputs": [],
   "source": [
    "----------\n",
    "controlObj.learnRate = 2.5e-4\n",
    "# controlObj.netWrapper.setLearnRate(controlObj.netWrapper.getRecommendedLearnRate())\n",
    "# controlObj.netWrapper.doubleLayerWeights(['conv_22'])\n",
    "# controlObj.netWrapper.net.batchSize = 256\n",
    "controlObj.netWrapper.setLayerTrainable('conv_1', False)\n",
    "controlObj.onDoItersPressed(5000)"
   ]
  }
 ],
 "metadata": {
  "kernelspec": {
   "display_name": "Python 3",
   "language": "python",
   "name": "python3"
  },
  "language_info": {
   "codemirror_mode": {
    "name": "ipython",
    "version": 3
   },
   "file_extension": ".py",
   "mimetype": "text/x-python",
   "name": "python",
   "nbconvert_exporter": "python",
   "pygments_lexer": "ipython3",
   "version": "3.6.9"
  }
 },
 "nbformat": 4,
 "nbformat_minor": 2
}
